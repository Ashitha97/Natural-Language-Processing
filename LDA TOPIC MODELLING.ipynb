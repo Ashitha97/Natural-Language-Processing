{
 "cells": [
  {
   "cell_type": "code",
   "execution_count": 1,
   "metadata": {},
   "outputs": [],
   "source": [
    "import numpy as np\n",
    "import pandas as pd\n",
    "from sklearn.feature_extraction.text import CountVectorizer\n",
    "from sklearn.decomposition import LatentDirichletAllocation\n",
    "countvectorizer=CountVectorizer()"
   ]
  },
  {
   "cell_type": "code",
   "execution_count": 2,
   "metadata": {},
   "outputs": [],
   "source": [
    "corpus=['I love cooking','I have prepared cake today','he is going to a new place','he will learn cooking there']"
   ]
  },
  {
   "cell_type": "code",
   "execution_count": 23,
   "metadata": {},
   "outputs": [
    {
     "data": {
      "text/plain": [
       "<4x15 sparse matrix of type '<class 'numpy.int64'>'\n",
       "\twith 17 stored elements in Compressed Sparse Row format>"
      ]
     },
     "execution_count": 23,
     "metadata": {},
     "output_type": "execute_result"
    }
   ],
   "source": [
    "cvz=countvectorizer.fit_transform(corpus)\n",
    "cvz"
   ]
  },
  {
   "cell_type": "code",
   "execution_count": 18,
   "metadata": {},
   "outputs": [
    {
     "data": {
      "text/plain": [
       "['cake',\n",
       " 'cooking',\n",
       " 'going',\n",
       " 'have',\n",
       " 'he',\n",
       " 'is',\n",
       " 'learn',\n",
       " 'love',\n",
       " 'new',\n",
       " 'place',\n",
       " 'prepared',\n",
       " 'there',\n",
       " 'to',\n",
       " 'today',\n",
       " 'will']"
      ]
     },
     "execution_count": 18,
     "metadata": {},
     "output_type": "execute_result"
    }
   ],
   "source": [
    "vocab=countvectorizer.get_feature_names()\n",
    "vocab"
   ]
  },
  {
   "cell_type": "code",
   "execution_count": 26,
   "metadata": {},
   "outputs": [
    {
     "data": {
      "text/plain": [
       "{'love': 7,\n",
       " 'cooking': 1,\n",
       " 'have': 3,\n",
       " 'prepared': 10,\n",
       " 'cake': 0,\n",
       " 'today': 13,\n",
       " 'he': 4,\n",
       " 'is': 5,\n",
       " 'going': 2,\n",
       " 'to': 12,\n",
       " 'new': 8,\n",
       " 'place': 9,\n",
       " 'will': 14,\n",
       " 'learn': 6,\n",
       " 'there': 11}"
      ]
     },
     "execution_count": 26,
     "metadata": {},
     "output_type": "execute_result"
    }
   ],
   "source": [
    "#position in the sparse matrix\n",
    "countvectorizer.vocabulary_"
   ]
  },
  {
   "cell_type": "code",
   "execution_count": 24,
   "metadata": {},
   "outputs": [],
   "source": [
    "LDA=LatentDirichletAllocation(n_components=3,max_iter=50,random_state=20)\n",
    "topics=LDA.fit_transform(cvz)\n",
    "topic_words=LDA.components_"
   ]
  },
  {
   "cell_type": "code",
   "execution_count": 25,
   "metadata": {},
   "outputs": [
    {
     "data": {
      "text/plain": [
       "array([[0.77342625, 0.11172509, 0.11484866],\n",
       "       [0.0672812 , 0.86579901, 0.06691979],\n",
       "       [0.04835244, 0.04817357, 0.903474  ],\n",
       "       [0.06147536, 0.05619798, 0.88232666]])"
      ]
     },
     "execution_count": 25,
     "metadata": {},
     "output_type": "execute_result"
    }
   ],
   "source": [
    "topics"
   ]
  },
  {
   "cell_type": "code",
   "execution_count": 27,
   "metadata": {},
   "outputs": [
    {
     "data": {
      "text/plain": [
       "array([[0.33409874, 1.35201546, 0.33426981, 0.33409874, 0.33448614,\n",
       "        0.33426981, 0.33484113, 1.33184254, 0.33426981, 0.33426981,\n",
       "        0.33409874, 0.33484113, 0.33426981, 0.33409874, 0.33484113],\n",
       "       [1.33225164, 0.33510505, 0.33404225, 1.33225164, 0.33407486,\n",
       "        0.33404225, 0.33419527, 0.33426478, 0.33404225, 0.33404225,\n",
       "        1.33225164, 0.33419527, 0.33404225, 1.33225164, 0.33419527],\n",
       "       [0.33364962, 1.31287949, 1.33168795, 0.33364962, 2.331439  ,\n",
       "        1.33168795, 1.3309636 , 0.33389268, 1.33168795, 1.33168795,\n",
       "        0.33364962, 1.3309636 , 1.33168795, 0.33364962, 1.3309636 ]])"
      ]
     },
     "execution_count": 27,
     "metadata": {},
     "output_type": "execute_result"
    }
   ],
   "source": [
    "topic_words"
   ]
  },
  {
   "cell_type": "code",
   "execution_count": 7,
   "metadata": {},
   "outputs": [
    {
     "name": "stdout",
     "output_type": "stream",
     "text": [
      "Topic 1 ['cooking' 'love' 'will']\n",
      "Topic 2 ['today' 'prepared' 'have']\n",
      "Topic 3 ['he' 'to' 'place']\n"
     ]
    }
   ],
   "source": [
    "n_top_words=4\n",
    "for i,topic_dist in enumerate(topic_words):\n",
    "    sorted_topic_dist=np.argsort(topic_dist)\n",
    "    topic_words=np.array(vocab)[sorted_topic_dist]\n",
    "    topic_words=topic_words[:-n_top_words:-1]\n",
    "    print('Topic', str(i+1),topic_words)\n"
   ]
  },
  {
   "cell_type": "code",
   "execution_count": 8,
   "metadata": {},
   "outputs": [
    {
     "name": "stdout",
     "output_type": "stream",
     "text": [
      "Document 1 --topic: 0\n",
      "Document 2 --topic: 1\n",
      "Document 3 --topic: 2\n",
      "Document 4 --topic: 2\n"
     ]
    }
   ],
   "source": [
    "doc_topic=LDA.fit_transform(cvz)\n",
    "for n in range(doc_topic.shape[0]):\n",
    "    topic_doc=doc_topic[n].argmax()\n",
    "    print('Document',n+1,\"--topic:\",topic_doc)"
   ]
  },
  {
   "cell_type": "code",
   "execution_count": 9,
   "metadata": {},
   "outputs": [
    {
     "data": {
      "text/plain": [
       "(4, 3)"
      ]
     },
     "execution_count": 9,
     "metadata": {},
     "output_type": "execute_result"
    }
   ],
   "source": [
    "doc_topic.shape"
   ]
  },
  {
   "cell_type": "code",
   "execution_count": 10,
   "metadata": {},
   "outputs": [
    {
     "data": {
      "text/plain": [
       "'3.7.3 (default, Mar 27 2019, 17:13:21) [MSC v.1915 64 bit (AMD64)]'"
      ]
     },
     "execution_count": 10,
     "metadata": {},
     "output_type": "execute_result"
    }
   ],
   "source": [
    "import sys\n",
    "sys.version"
   ]
  },
  {
   "cell_type": "code",
   "execution_count": null,
   "metadata": {},
   "outputs": [],
   "source": []
  }
 ],
 "metadata": {
  "kernelspec": {
   "display_name": "Python 3",
   "language": "python",
   "name": "python3"
  },
  "language_info": {
   "codemirror_mode": {
    "name": "ipython",
    "version": 3
   },
   "file_extension": ".py",
   "mimetype": "text/x-python",
   "name": "python",
   "nbconvert_exporter": "python",
   "pygments_lexer": "ipython3",
   "version": "3.7.3"
  }
 },
 "nbformat": 4,
 "nbformat_minor": 2
}
