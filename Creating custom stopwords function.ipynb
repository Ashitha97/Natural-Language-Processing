{
 "cells": [
  {
   "cell_type": "code",
   "execution_count": 16,
   "metadata": {},
   "outputs": [],
   "source": [
    "# !pip install wikipedia"
   ]
  },
  {
   "cell_type": "code",
   "execution_count": 2,
   "metadata": {},
   "outputs": [],
   "source": [
    "import wikipedia as wiki\n",
    "from nltk.tokenize import word_tokenize\n",
    "\n",
    "def removeStopWordsWiki(wikiSummary):\n",
    "\n",
    "    wikiSummaryText = wiki.summary(wikiSummary)\n",
    "    tokWordWiki = word_tokenize(wikiSummaryText)\n",
    "\n",
    "    wiki_stopwords = ['a', 'and', 'are', 'as', 'be','for', 'have',\n",
    "                      'in', 'is', 'of', 'or', 'that','the', 'to', 'was']\n",
    "    \n",
    "    wikiSummary_noSW = list()\n",
    "\n",
    "    for i in range(0,len(tokWordWiki)):\n",
    "\n",
    "        if tokWordWiki[i].lower() in wiki_stopwords:   # remember to make lower! \n",
    "            pass\n",
    "        else:\n",
    "            wikiSummary_noSW.append(tokWordWiki[i])\n",
    "\n",
    "    return wikiSummary_noSW"
   ]
  },
  {
   "cell_type": "code",
   "execution_count": 10,
   "metadata": {},
   "outputs": [],
   "source": [
    "\n",
    "wikimouse=removeStopWordsWiki('minimouse')"
   ]
  },
  {
   "cell_type": "code",
   "execution_count": 11,
   "metadata": {},
   "outputs": [
    {
     "data": {
      "text/plain": [
       "['Minimus',\n",
       " 'books',\n",
       " 'series',\n",
       " 'school',\n",
       " 'textbooks',\n",
       " ',',\n",
       " 'written',\n",
       " 'by',\n",
       " 'Barbara',\n",
       " 'Bell',\n",
       " ',',\n",
       " 'illustrated',\n",
       " 'by',\n",
       " 'Dr.',\n",
       " 'Helen',\n",
       " 'Forte',\n",
       " ',',\n",
       " 'published',\n",
       " 'by',\n",
       " 'Cambridge',\n",
       " 'University',\n",
       " 'Press',\n",
       " ',',\n",
       " 'designed',\n",
       " 'help',\n",
       " 'children',\n",
       " 'primary',\n",
       " 'school',\n",
       " 'age',\n",
       " 'learn',\n",
       " 'Latin',\n",
       " '.',\n",
       " 'books',\n",
       " 'espouse',\n",
       " 'some',\n",
       " 'principles',\n",
       " 'direct',\n",
       " 'method',\n",
       " 'language',\n",
       " 'teaching',\n",
       " ',',\n",
       " 'named',\n",
       " 'after',\n",
       " 'mouse',\n",
       " 'Minimus',\n",
       " '(',\n",
       " 'Latin',\n",
       " '``',\n",
       " 'smallest',\n",
       " \"''\",\n",
       " ',',\n",
       " 'also',\n",
       " 'pun',\n",
       " 'on',\n",
       " 'mus',\n",
       " '—',\n",
       " 'Latin',\n",
       " '``',\n",
       " 'mouse',\n",
       " \"''\",\n",
       " ')',\n",
       " 'who',\n",
       " 'known',\n",
       " '``',\n",
       " 'mouse',\n",
       " 'made',\n",
       " 'Latin',\n",
       " 'cool',\n",
       " \"''\",\n",
       " '.',\n",
       " 'There',\n",
       " 'two',\n",
       " 'books',\n",
       " 'series',\n",
       " ':',\n",
       " 'Minimus',\n",
       " ':',\n",
       " 'Starting',\n",
       " 'out',\n",
       " 'Latin',\n",
       " 'Minimus',\n",
       " 'Secundus',\n",
       " '.',\n",
       " 'While',\n",
       " 'first',\n",
       " 'book',\n",
       " 'aimed',\n",
       " 'at',\n",
       " '7-10',\n",
       " 'year',\n",
       " 'olds',\n",
       " ',',\n",
       " 'second',\n",
       " 'continues',\n",
       " 'series',\n",
       " 'children',\n",
       " 'up',\n",
       " '13',\n",
       " 'years',\n",
       " 'old',\n",
       " '.',\n",
       " 'stories',\n",
       " 'presented',\n",
       " 'each',\n",
       " 'chapter',\n",
       " 'revolve',\n",
       " 'around',\n",
       " 'family',\n",
       " '.',\n",
       " 'family',\n",
       " 'based',\n",
       " 'on',\n",
       " 'real',\n",
       " 'family',\n",
       " 'who',\n",
       " 'lived',\n",
       " 'at',\n",
       " 'Vindolanda',\n",
       " ',',\n",
       " 'northern',\n",
       " 'Britain',\n",
       " '100',\n",
       " 'AD',\n",
       " '.',\n",
       " 'books',\n",
       " 'feature',\n",
       " 'many',\n",
       " 'artifacts',\n",
       " 'from',\n",
       " 'Vindolanda',\n",
       " ',',\n",
       " 'integrating',\n",
       " 'real',\n",
       " 'objects',\n",
       " 'into',\n",
       " 'fictional',\n",
       " 'plot',\n",
       " 'lines',\n",
       " '.',\n",
       " '2011',\n",
       " ',',\n",
       " 'it',\n",
       " 'reported',\n",
       " '125,000',\n",
       " 'copies',\n",
       " 'had',\n",
       " 'been',\n",
       " 'sold',\n",
       " '.']"
      ]
     },
     "execution_count": 11,
     "metadata": {},
     "output_type": "execute_result"
    }
   ],
   "source": [
    "wikimouse"
   ]
  },
  {
   "cell_type": "code",
   "execution_count": 13,
   "metadata": {},
   "outputs": [
    {
     "data": {
      "text/plain": [
       "422"
      ]
     },
     "execution_count": 13,
     "metadata": {},
     "output_type": "execute_result"
    }
   ],
   "source": [
    "#length of orginal , before removal of stopwords\n",
    "len(word_tokenize(wiki.summary('mouse')))"
   ]
  },
  {
   "cell_type": "code",
   "execution_count": 15,
   "metadata": {},
   "outputs": [
    {
     "data": {
      "text/plain": [
       "149"
      ]
     },
     "execution_count": 15,
     "metadata": {},
     "output_type": "execute_result"
    }
   ],
   "source": [
    "#length of document after removal of stopwords\n",
    "len(wikimouse)"
   ]
  },
  {
   "cell_type": "code",
   "execution_count": null,
   "metadata": {},
   "outputs": [],
   "source": []
  }
 ],
 "metadata": {
  "kernelspec": {
   "display_name": "Python 3",
   "language": "python",
   "name": "python3"
  },
  "language_info": {
   "codemirror_mode": {
    "name": "ipython",
    "version": 3
   },
   "file_extension": ".py",
   "mimetype": "text/x-python",
   "name": "python",
   "nbconvert_exporter": "python",
   "pygments_lexer": "ipython3",
   "version": "3.7.6"
  }
 },
 "nbformat": 4,
 "nbformat_minor": 2
}
